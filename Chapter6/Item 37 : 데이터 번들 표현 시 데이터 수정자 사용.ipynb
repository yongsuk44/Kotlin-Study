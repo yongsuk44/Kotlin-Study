{
 "cells": [
  {
   "cell_type": "markdown",
   "source": [
    "# Item 37: 데이터 번들 표현 시 데이터 Modifier 사용\n",
    "\n",
    "때때로 데이터 번들 전달이 필요할 수 있습니다. 이럴 때 개발자들은 데이터 클래스(`data class`)를 사용합니다.\n",
    "\n",
    "이들은 데이터 수정자(Modifier)가 있는 클래스로 이를 보통 데이터 모델 클래스에 빠르게 도입합니다."
   ],
   "metadata": {
    "collapsed": false
   }
  },
  {
   "cell_type": "code",
   "execution_count": null,
   "outputs": [],
   "source": [
    "data class Player(\n",
    "    val id: Int,\n",
    "    val name: String,\n",
    "    val points: Int\n",
    ")\n",
    "\n",
    "val player = Player(1, \"Player 1\", 1000)"
   ],
   "metadata": {
    "collapsed": false
   }
  },
  {
   "cell_type": "markdown",
   "source": [
    "데이터 수정자 추가 시 아래와 같은 유용한 함수들이 제공됩니다.\n",
    "- `toString`\n",
    "- `equals`와 `hashCode`\n",
    "- `copy`\n",
    "- `componentN`\n",
    "\n",
    "`toString`은 클래스 이름, 기본 생성자 속성의 이름과 값을 출력합니다.\n",
    "이는 로깅과 디버깅에 유용하게 사용될 수 있습니다."
   ],
   "metadata": {
    "collapsed": false
   }
  },
  {
   "cell_type": "code",
   "execution_count": 7,
   "outputs": [
    {
     "name": "stdout",
     "output_type": "stream",
     "text": [
      "Player(id=1, name=Player 1, points=1000)"
     ]
    }
   ],
   "source": [
    "print(player) // Player(id=1, name=Player 1, points=1000)"
   ],
   "metadata": {
    "collapsed": false,
    "ExecuteTime": {
     "end_time": "2023-07-19T03:50:35.848710Z",
     "start_time": "2023-07-19T03:50:35.745495Z"
    }
   }
  },
  {
   "cell_type": "markdown",
   "source": [
    "`equals`는 기본 생성자 속성이 같은지 확인합니다. `hashCode`는 이와 일관성이 있습니다. (#Item 38)"
   ],
   "metadata": {
    "collapsed": false
   }
  },
  {
   "cell_type": "code",
   "execution_count": null,
   "outputs": [],
   "source": [
    "player == Player(1, \"Player 1\", 1000) // true\n",
    "player == Player(1, \"Player 2\", 1000) // false"
   ],
   "metadata": {
    "collapsed": false
   }
  },
  {
   "cell_type": "markdown",
   "source": [
    "`copy`는 불변 데이터 클래스에 유용하게 사용됩니다.\n",
    "\n",
    "기본적으로 각 기본 생성자 속성이 동일한 값을 가진 새로운 객체를 만들지만, 명명된 인수를 사용하여 각각의 값을 변경할 수 있습니다."
   ],
   "metadata": {
    "collapsed": false
   }
  },
  {
   "cell_type": "code",
   "execution_count": null,
   "outputs": [],
   "source": [
    "val newObj = player.copy(name = \"Player 22\")\n",
    "print(newObj) // Player(id=1, name=Player 22, points=1000)"
   ],
   "metadata": {
    "collapsed": false
   }
  },
  {
   "cell_type": "markdown",
   "source": [
    "\n",
    "`copy` 메서드는 데이터 수정자 덕분에 생성되는 다른 메서드와 마찬가지로 내부에서 생성되기에 외부에 노출되지 않습니다.\n",
    "\n",
    "만약 볼 수 있다면, 다음과 같이 보여질 것입니다."
   ],
   "metadata": {
    "collapsed": false
   }
  },
  {
   "cell_type": "code",
   "execution_count": null,
   "outputs": [],
   "source": [
    "fun copy(\n",
    "    id: Int = this.id,\n",
    "    name: String = this.name,\n",
    "    age: Int = this.age\n",
    ") = Player(id, name, age)"
   ],
   "metadata": {
    "collapsed": false
   }
  },
  {
   "cell_type": "markdown",
   "source": [
    "`componentN`함수들(component1, component2 등)은 위치 기반의 비 구조화를 허용하며 다음과 같이 사용됩니다."
   ],
   "metadata": {
    "collapsed": false
   }
  },
  {
   "cell_type": "code",
   "execution_count": null,
   "outputs": [],
   "source": [
    "val (id, name, points) = player"
   ],
   "metadata": {
    "collapsed": false
   }
  },
  {
   "cell_type": "markdown",
   "source": [
    "Kotlin에서의 비구조화는 `componentN`를 사용한 변수 정의로 직접 번역되므로 위 코드는 다음과 같이 컴파일 됩니다."
   ],
   "metadata": {
    "collapsed": false
   }
  },
  {
   "cell_type": "code",
   "execution_count": null,
   "outputs": [],
   "source": [
    "val id = player.component1()\n",
    "val name = player.component2()\n",
    "val point = player.component3()"
   ],
   "metadata": {
    "collapsed": false
   }
  },
  {
   "cell_type": "markdown",
   "source": [
    "\n",
    "이러한 접근 방식은 장단점이 존재합니다.\n",
    "\n",
    "가장 큰 장점은 변수의 이름을 원하는 방식으로 작성할 수 있습니다. 또한 `componentN`을 제공하는 모든 것을 비구조화 할 수 있습니다.\n",
    "\n",
    "`List`와 `Map.Entry`도 `componentN`을 제공합니다. 아래는 그 예시 입니다."
   ],
   "metadata": {
    "collapsed": false
   }
  },
  {
   "cell_type": "code",
   "execution_count": 5,
   "outputs": [
    {
     "name": "stdout",
     "output_type": "stream",
     "text": [
      "China, Japan, Korea\n",
      "We loved Tianjin in China\n",
      "We loved Tokyo in Japan\n",
      "We loved Seoul in Korea\n"
     ]
    }
   ],
   "source": [
    "val visited = listOf(\"China\", \"Japan\", \"Korea\")\n",
    "val (first, second, third) = visited\n",
    "println(\"$first, $second, $third\")\n",
    "\n",
    "val trip = mapOf(\n",
    "    \"China\" to \"Tianjin\",\n",
    "    \"Japan\" to \"Tokyo\",\n",
    "    \"Korea\" to \"Seoul\"\n",
    ")\n",
    "\n",
    "for ((country, city) in trip) {\n",
    "    println(\"We loved $city in $country\")\n",
    "}"
   ],
   "metadata": {
    "collapsed": false,
    "ExecuteTime": {
     "end_time": "2023-07-19T03:41:18.185036Z",
     "start_time": "2023-07-19T03:41:17.985081Z"
    }
   }
  },
  {
   "cell_type": "markdown",
   "source": [
    "단점으로는 예기치 못한 상황이 생길 수 있습니다.\n",
    "\n",
    "데이터 클래스에서 요소의 순서가 변경되면 모든 비구조화를 조정해주어야 합니다.\n",
    "또한 순서를 혼동해서 잘못된 비구조화를 하기에 쉽습니다."
   ],
   "metadata": {
    "collapsed": false
   }
  },
  {
   "cell_type": "code",
   "execution_count": 6,
   "outputs": [
    {
     "name": "stdout",
     "output_type": "stream",
     "text": [
      "It is Elon Reeve!\n"
     ]
    }
   ],
   "source": [
    "data class FullName(\n",
    "    val firstName: String,\n",
    "    val secondName: String,\n",
    "    val lastName: String\n",
    ")\n",
    "\n",
    "val elon = FullName(\"Elon\", \"Reeve\", \"Musk\")\n",
    "val (name, surname) = elon\n",
    "println(\"It is $name $surname!\")"
   ],
   "metadata": {
    "collapsed": false,
    "ExecuteTime": {
     "end_time": "2023-07-19T03:43:18.553442Z",
     "start_time": "2023-07-19T03:43:18.390922Z"
    }
   }
  },
  {
   "cell_type": "markdown",
   "source": [
    "비구조화 시 주의해서 작업을 해야 하며 데이터 클래스 기본 생성자 속성과 동일한 이름을 사용하는 방법이 실수를 줄일 수 있는 방법입니다.\n",
    "\n",
    "만약 잘못된 순서가 있다면 Tool에서 경고가 표시되므로 이 경고를 바탕으로 수정할 수 있습니다."
   ],
   "metadata": {
    "collapsed": false
   }
  }
 ],
 "metadata": {
  "kernelspec": {
   "display_name": "Kotlin",
   "language": "kotlin",
   "name": "kotlin"
  },
  "language_info": {
   "name": "kotlin",
   "version": "1.8.20",
   "mimetype": "text/x-kotlin",
   "file_extension": ".kt",
   "pygments_lexer": "kotlin",
   "codemirror_mode": "text/x-kotlin",
   "nbconvert_exporter": ""
  },
  "ktnbPluginMetadata": {
   "isBuildProject": true
  }
 },
 "nbformat": 4,
 "nbformat_minor": 0
}
